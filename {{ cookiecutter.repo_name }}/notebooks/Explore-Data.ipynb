{
 "metadata": {
  "language_info": {
   "codemirror_mode": {
    "name": "ipython",
    "version": 3
   },
   "file_extension": ".py",
   "mimetype": "text/x-python",
   "name": "python",
   "nbconvert_exporter": "python",
   "pygments_lexer": "ipython3",
   "version": 3
  },
  "orig_nbformat": 2
 },
 "nbformat": 4,
 "nbformat_minor": 2,
 "cells": [
  {
   "source": [
    "# {{ cookiecutter.project_name }} Data Exploration"
   ],
   "cell_type": "markdown",
   "metadata": {}
  },
  {
   "cell_type": "code",
   "execution_count": null,
   "metadata": {},
   "outputs": [],
   "source": [
    "from azureml.core import Workspace, Experiment, Dataset, Environment\n",
    "\n",
    "ws = Workspace.from_config()\n",
    "\n",
    "environ = Environment.get(workspace=ws, name='{{ cookiecutter.environment_name }}')\n",
    "{% if cookiecutter.include_dataset_yaml == 'Both' %}\n",
    "file_train_ds = Dataset.get_by_name(workspace=ws, name='{{ cookiecutter.training_dataset }}-files')\n",
    "tabular_train_ds = Dataset.get_by_name(workspace=ws, name='{{ cookiecutter.training_dataset }}-table')\n",
    "{% elif cookiecutter.include_dataset_yaml in ['Tabular', 'Files'] %}\n",
    "train_ds = Dataset.get_by_name(workspace=ws, name='{{ cookiecutter.training_dataset }}')\n",
    "{%- endif -%}"
   ]
  }
 ]
}